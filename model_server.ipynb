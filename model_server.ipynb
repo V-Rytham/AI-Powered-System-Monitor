{
 "cells": [
  {
   "cell_type": "code",
   "execution_count": 9,
   "id": "9fdc0b00-d453-49b6-96e5-7fc6c40cf3c3",
   "metadata": {},
   "outputs": [],
   "source": [
    "# model_server.py\n",
    "from flask import Flask, request, jsonify\n",
    "import joblib\n",
    "import numpy as np\n",
    "\n",
    "# Load model\n",
    "\n",
    "model = joblib.load(\"cpu_usage_predictor_model.pkl\")\n",
    "app = Flask(__name__)\n",
    "\n",
    "@app.route(\"/predict\", methods=[\"POST\"])\n",
    "def predict():\n",
    "    try:\n",
    "        data = request.json[\"features\"]\n",
    "        prediction = model.predict([data])[0]\n",
    "        return jsonify({\"prediction\": int(prediction)})\n",
    "    except Exception as e:\n",
    "        return jsonify({\"error\": str(e)})\n",
    "\n",
    "if __name__ == \"__main__\":\n",
    "    app.run(port=5000)"
   ]
  },
  {
   "cell_type": "code",
   "execution_count": null,
   "id": "141289a4-4aaf-4aa5-a551-c8609c8c1231",
   "metadata": {},
   "outputs": [],
   "source": []
  }
 ],
 "metadata": {
  "kernelspec": {
   "display_name": "Python 3 (ipykernel)",
   "language": "python",
   "name": "python3"
  },
  "language_info": {
   "codemirror_mode": {
    "name": "ipython",
    "version": 3
   },
   "file_extension": ".py",
   "mimetype": "text/x-python",
   "name": "python",
   "nbconvert_exporter": "python",
   "pygments_lexer": "ipython3",
   "version": "3.11.7"
  }
 },
 "nbformat": 4,
 "nbformat_minor": 5
}
